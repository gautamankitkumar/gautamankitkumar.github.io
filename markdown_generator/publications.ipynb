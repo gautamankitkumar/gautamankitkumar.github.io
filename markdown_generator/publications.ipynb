{
 "cells": [
  {
   "cell_type": "markdown",
   "metadata": {
    "deletable": true,
    "editable": true
   },
   "source": [
    "# Publications markdown generator for academicpages\n",
    "\n",
    "Takes a TSV of publications with metadata and converts them for use with [academicpages.github.io](academicpages.github.io). This is an interactive Jupyter notebook ([see more info here](http://jupyter-notebook-beginner-guide.readthedocs.io/en/latest/what_is_jupyter.html)). The core python code is also in `publications.py`. Run either from the `markdown_generator` folder after replacing `publications.tsv` with one containing your data.\n",
    "\n",
    "TODO: Make this work with BibTex and other databases of citations, rather than Stuart's non-standard TSV format and citation style.\n"
   ]
  },
  {
   "cell_type": "markdown",
   "metadata": {},
   "source": [
    "## Data format\n",
    "\n",
    "The TSV needs to have the following columns: pub_date, title, venue, excerpt, citation, site_url, and paper_url, with a header at the top. \n",
    "\n",
    "- `excerpt` and `paper_url` can be blank, but the others must have values. \n",
    "- `pub_date` must be formatted as YYYY-MM-DD.\n",
    "- `url_slug` will be the descriptive part of the .md file and the permalink URL for the page about the paper. The .md file will be `YYYY-MM-DD-[url_slug].md` and the permalink will be `https://[yourdomain]/publications/YYYY-MM-DD-[url_slug]`\n",
    "\n",
    "This is how the raw file looks (it doesn't look pretty, use a spreadsheet or other program to edit and create)."
   ]
  },
  {
   "cell_type": "code",
   "execution_count": 1,
   "metadata": {
    "collapsed": false
   },
   "outputs": [
    {
     "name": "stdout",
     "output_type": "stream",
     "text": [
      "pub_date,title,venue,excerpt,citation,url_slug,paper_url\n",
      "2020-01-01,Inferring layer-by-layer composition in Au-Ag nanoparticles using a combination of X-ray Photoelectron Spectroscopy and Monte Carlo simulations,Surface Science,hi,Arif-2020-inferring,Arif-2020-inferring,https://doi.org/10.1016/j.susc.2019.121503\n",
      "2023-12-23,Defect Engineering of WO3 by Rapid Flame Reduction for Efficient Photoelectrochemical Conversion of Methane into Liquid Oxygenates,Nano Letters,hi,Woo-2023-wo3-ch4-oxidation,Woo-2023-wo3-ch4-oxidation,https://doi.org/10.1021/acs.nanolett.3c03131\n",
      "2024-05-15,Implication of surface oxidation of nanoscale molybdenum carbide on electrocatalytic activity,Journal of Materials Chemistry A,hi,Yu-2024-beta-mo2c,Yu-2024-beta-mo2c,https://doi.org/10.1039/D4TA01746C\n",
      "2025-04-01,Role of surface oxygen in α-MoC catalyst stability and activity under electrooxidation conditions,ACS Catalysis,hi,Gautam-2025-amoc-faeo,Gautam-2025-amoc-faeo,https://doi.org/10.1021/acscatal.4c06544\n",
      "2025-05-01,Planar chiral metallopolymers for electrochemically-mediated enantioselective separations,Journal of the American Chemical Society,hi,Jeon-2025-planar-selectivity,Jeon-2025-planar-selectivity,https://doi.org/10.1021/jacs.5c01571\n",
      "2025-06-01,Elucidating the electronic effects of substituent on N-Heterocyclic carbene stability on gold nanoclusters,in preparation,hi,Gautam-2025-nhc-stability,Gautam-2025-nhc-stability,_\n",
      "2025-07-01,Developing minimally-empirical tight-binding model for transition metals to accelerate catalysis and non-covalent interaction studies,in preparation,hi,Gautam-2025-ntb-la-h2o,Gautam-2025-ntb-la-h2o,_"
     ]
    }
   ],
   "source": [
    "!cat publications.tsv"
   ]
  },
  {
   "cell_type": "markdown",
   "metadata": {},
   "source": [
    "## Import pandas\n",
    "\n",
    "We are using the very handy pandas library for dataframes."
   ]
  },
  {
   "cell_type": "code",
   "execution_count": 2,
   "metadata": {
    "collapsed": true,
    "deletable": true,
    "editable": true
   },
   "outputs": [],
   "source": [
    "import pandas as pd"
   ]
  },
  {
   "cell_type": "markdown",
   "metadata": {},
   "source": [
    "## Import TSV\n",
    "\n",
    "Pandas makes this easy with the read_csv function. We are using a TSV, so we specify the separator as a tab, or `\\t`.\n",
    "\n",
    "I found it important to put this data in a tab-separated values format, because there are a lot of commas in this kind of data and comma-separated values can get messed up. However, you can modify the import statement, as pandas also has read_excel(), read_json(), and others."
   ]
  },
  {
   "cell_type": "code",
   "execution_count": 3,
   "metadata": {
    "collapsed": false,
    "deletable": true,
    "editable": true
   },
   "outputs": [
    {
     "data": {
      "text/html": [
       "<div>\n",
       "<style scoped>\n",
       "    .dataframe tbody tr th:only-of-type {\n",
       "        vertical-align: middle;\n",
       "    }\n",
       "\n",
       "    .dataframe tbody tr th {\n",
       "        vertical-align: top;\n",
       "    }\n",
       "\n",
       "    .dataframe thead th {\n",
       "        text-align: right;\n",
       "    }\n",
       "</style>\n",
       "<table border=\"1\" class=\"dataframe\">\n",
       "  <thead>\n",
       "    <tr style=\"text-align: right;\">\n",
       "      <th></th>\n",
       "      <th>pub_date</th>\n",
       "      <th>title</th>\n",
       "      <th>venue</th>\n",
       "      <th>excerpt</th>\n",
       "      <th>citation</th>\n",
       "      <th>url_slug</th>\n",
       "      <th>paper_url</th>\n",
       "    </tr>\n",
       "  </thead>\n",
       "  <tbody>\n",
       "    <tr>\n",
       "      <th>0</th>\n",
       "      <td>2020-01-01</td>\n",
       "      <td>Inferring layer-by-layer composition in Au-Ag ...</td>\n",
       "      <td>Surface Science</td>\n",
       "      <td>hi</td>\n",
       "      <td>Arif-2020-inferring</td>\n",
       "      <td>Arif-2020-inferring</td>\n",
       "      <td>https://doi.org/10.1016/j.susc.2019.121503</td>\n",
       "    </tr>\n",
       "    <tr>\n",
       "      <th>1</th>\n",
       "      <td>2023-12-23</td>\n",
       "      <td>Defect Engineering of WO3 by Rapid Flame Reduc...</td>\n",
       "      <td>Nano Letters</td>\n",
       "      <td>hi</td>\n",
       "      <td>Woo-2023-wo3-ch4-oxidation</td>\n",
       "      <td>Woo-2023-wo3-ch4-oxidation</td>\n",
       "      <td>https://doi.org/10.1021/acs.nanolett.3c03131</td>\n",
       "    </tr>\n",
       "    <tr>\n",
       "      <th>2</th>\n",
       "      <td>2024-05-15</td>\n",
       "      <td>Implication of surface oxidation of nanoscale ...</td>\n",
       "      <td>Journal of Materials Chemistry A</td>\n",
       "      <td>hi</td>\n",
       "      <td>Yu-2024-beta-mo2c</td>\n",
       "      <td>Yu-2024-beta-mo2c</td>\n",
       "      <td>https://doi.org/10.1039/D4TA01746C</td>\n",
       "    </tr>\n",
       "    <tr>\n",
       "      <th>3</th>\n",
       "      <td>2025-04-01</td>\n",
       "      <td>Role of surface oxygen in α-MoC catalyst stabi...</td>\n",
       "      <td>ACS Catalysis</td>\n",
       "      <td>hi</td>\n",
       "      <td>Gautam-2025-amoc-faeo</td>\n",
       "      <td>Gautam-2025-amoc-faeo</td>\n",
       "      <td>https://doi.org/10.1021/acscatal.4c06544</td>\n",
       "    </tr>\n",
       "    <tr>\n",
       "      <th>4</th>\n",
       "      <td>2025-05-01</td>\n",
       "      <td>Planar chiral metallopolymers for electrochemi...</td>\n",
       "      <td>Journal of the American Chemical Society</td>\n",
       "      <td>hi</td>\n",
       "      <td>Jeon-2025-planar-selectivity</td>\n",
       "      <td>Jeon-2025-planar-selectivity</td>\n",
       "      <td>https://doi.org/10.1021/jacs.5c01571</td>\n",
       "    </tr>\n",
       "    <tr>\n",
       "      <th>5</th>\n",
       "      <td>2025-06-01</td>\n",
       "      <td>Elucidating the electronic effects of substitu...</td>\n",
       "      <td>in preparation</td>\n",
       "      <td>hi</td>\n",
       "      <td>Gautam-2025-nhc-stability</td>\n",
       "      <td>Gautam-2025-nhc-stability</td>\n",
       "      <td>_</td>\n",
       "    </tr>\n",
       "    <tr>\n",
       "      <th>6</th>\n",
       "      <td>2025-07-01</td>\n",
       "      <td>Developing minimally-empirical tight-binding m...</td>\n",
       "      <td>in preparation</td>\n",
       "      <td>hi</td>\n",
       "      <td>Gautam-2025-ntb-la-h2o</td>\n",
       "      <td>Gautam-2025-ntb-la-h2o</td>\n",
       "      <td>_</td>\n",
       "    </tr>\n",
       "  </tbody>\n",
       "</table>\n",
       "</div>"
      ],
      "text/plain": [
       "     pub_date                                              title  \\\n",
       "0  2020-01-01  Inferring layer-by-layer composition in Au-Ag ...   \n",
       "1  2023-12-23  Defect Engineering of WO3 by Rapid Flame Reduc...   \n",
       "2  2024-05-15  Implication of surface oxidation of nanoscale ...   \n",
       "3  2025-04-01  Role of surface oxygen in α-MoC catalyst stabi...   \n",
       "4  2025-05-01  Planar chiral metallopolymers for electrochemi...   \n",
       "5  2025-06-01  Elucidating the electronic effects of substitu...   \n",
       "6  2025-07-01  Developing minimally-empirical tight-binding m...   \n",
       "\n",
       "                                      venue excerpt  \\\n",
       "0                           Surface Science      hi   \n",
       "1                              Nano Letters      hi   \n",
       "2          Journal of Materials Chemistry A      hi   \n",
       "3                             ACS Catalysis      hi   \n",
       "4  Journal of the American Chemical Society      hi   \n",
       "5                            in preparation      hi   \n",
       "6                            in preparation      hi   \n",
       "\n",
       "                       citation                      url_slug  \\\n",
       "0           Arif-2020-inferring           Arif-2020-inferring   \n",
       "1    Woo-2023-wo3-ch4-oxidation    Woo-2023-wo3-ch4-oxidation   \n",
       "2             Yu-2024-beta-mo2c             Yu-2024-beta-mo2c   \n",
       "3         Gautam-2025-amoc-faeo         Gautam-2025-amoc-faeo   \n",
       "4  Jeon-2025-planar-selectivity  Jeon-2025-planar-selectivity   \n",
       "5     Gautam-2025-nhc-stability     Gautam-2025-nhc-stability   \n",
       "6        Gautam-2025-ntb-la-h2o        Gautam-2025-ntb-la-h2o   \n",
       "\n",
       "                                      paper_url  \n",
       "0    https://doi.org/10.1016/j.susc.2019.121503  \n",
       "1  https://doi.org/10.1021/acs.nanolett.3c03131  \n",
       "2            https://doi.org/10.1039/D4TA01746C  \n",
       "3      https://doi.org/10.1021/acscatal.4c06544  \n",
       "4          https://doi.org/10.1021/jacs.5c01571  \n",
       "5                                             _  \n",
       "6                                             _  "
      ]
     },
     "execution_count": 3,
     "metadata": {},
     "output_type": "execute_result"
    }
   ],
   "source": [
    "publications = pd.read_csv(\"publications.tsv\", sep=\",\", header=0)\n",
    "publications"
   ]
  },
  {
   "cell_type": "markdown",
   "metadata": {},
   "source": [
    "## Escape special characters\n",
    "\n",
    "YAML is very picky about how it takes a valid string, so we are replacing single and double quotes (and ampersands) with their HTML encoded equivilents. This makes them look not so readable in raw format, but they are parsed and rendered nicely."
   ]
  },
  {
   "cell_type": "code",
   "execution_count": 4,
   "metadata": {
    "collapsed": true,
    "deletable": true,
    "editable": true
   },
   "outputs": [],
   "source": [
    "html_escape_table = {\n",
    "    \"&\": \"&amp;\",\n",
    "    '\"': \"&quot;\",\n",
    "    \"'\": \"&apos;\"\n",
    "    }\n",
    "\n",
    "def html_escape(text):\n",
    "    \"\"\"Produce entities within text.\"\"\"\n",
    "    return \"\".join(html_escape_table.get(c,c) for c in text)"
   ]
  },
  {
   "cell_type": "markdown",
   "metadata": {},
   "source": [
    "## Creating the markdown files\n",
    "\n",
    "This is where the heavy lifting is done. This loops through all the rows in the TSV dataframe, then starts to concatentate a big string (```md```) that contains the markdown for each type. It does the YAML metadata first, then does the description for the individual page."
   ]
  },
  {
   "cell_type": "code",
   "execution_count": 5,
   "metadata": {
    "collapsed": false,
    "deletable": true,
    "editable": true
   },
   "outputs": [],
   "source": [
    "import os\n",
    "for row, item in publications.iterrows():\n",
    "    \n",
    "    md_filename = str(item.pub_date) + \"-\" + item.url_slug + \".md\"\n",
    "    html_filename = str(item.pub_date) + \"-\" + item.url_slug\n",
    "    year = item.pub_date[:4]\n",
    "    \n",
    "    ## YAML variables\n",
    "    \n",
    "    md = \"---\\ntitle: \\\"\"   + item.title + '\"\\n'\n",
    "    \n",
    "    md += \"\"\"collection: publications\"\"\"\n",
    "    \n",
    "    md += \"\"\"\\npermalink: /publication/\"\"\" + html_filename\n",
    "    \n",
    "    if len(str(item.excerpt)) > 5:\n",
    "        md += \"\\nexcerpt: '\" + html_escape(item.excerpt) + \"'\"\n",
    "    \n",
    "    md += \"\\ndate: \" + str(item.pub_date) \n",
    "    \n",
    "    md += \"\\nvenue: '\" + html_escape(item.venue) + \"'\"\n",
    "    \n",
    "    if len(str(item.paper_url)) > 5:\n",
    "        md += \"\\npaperurl: '\" + item.paper_url + \"'\"\n",
    "    \n",
    "    md += \"\\ncitation: '\" + html_escape(item.citation) + \"'\"\n",
    "    \n",
    "    md += \"\\n---\"\n",
    "    \n",
    "    ## Markdown description for individual page\n",
    "        \n",
    "    if len(str(item.excerpt)) > 5:\n",
    "        md += \"\\n\" + html_escape(item.excerpt) + \"\\n\"\n",
    "    \n",
    "    if len(str(item.paper_url)) > 5:\n",
    "        md += \"\\n[Download paper here](\" + item.paper_url + \")\\n\" \n",
    "        \n",
    "    md += \"\\nRecommended citation: \" + item.citation\n",
    "    \n",
    "    md_filename = os.path.basename(md_filename)\n",
    "       \n",
    "    with open(\"../_publications/\" + md_filename, 'w') as f:\n",
    "        f.write(md)"
   ]
  },
  {
   "cell_type": "markdown",
   "metadata": {},
   "source": [
    "These files are in the publications directory, one directory below where we're working from."
   ]
  },
  {
   "cell_type": "code",
   "execution_count": 6,
   "metadata": {
    "collapsed": false,
    "deletable": true,
    "editable": true
   },
   "outputs": [
    {
     "name": "stdout",
     "output_type": "stream",
     "text": [
      "2020-01-01-Arif-2020-inferring.md\n",
      "2023-12-23-Woo-2023-wo3-ch4-oxidation.md\n",
      "2024-05-15-Yu-2024-beta-mo2c.md\n",
      "2025-04-01-Gautam-2025-amoc-faeo.md\n",
      "2025-05-01-Jeon-2025-planar-selectivity.md\n",
      "2025-06-01-Gautam-2025-nhc-stability.md\n",
      "2025-07-01-Gautam-2025-ntb-la-h2o.md\n"
     ]
    }
   ],
   "source": [
    "!ls ../_publications/"
   ]
  },
  {
   "cell_type": "code",
   "execution_count": 7,
   "metadata": {
    "collapsed": false,
    "deletable": true,
    "editable": true
   },
   "outputs": [
    {
     "name": "stdout",
     "output_type": "stream",
     "text": [
      "---\n",
      "title: \"Inferring layer-by-layer composition in Au-Ag nanoparticles using a combination of X-ray Photoelectron Spectroscopy and Monte Carlo simulations\"\n",
      "collection: publications\n",
      "permalink: /publication/2020-01-01-Arif-2020-inferring\n",
      "date: 2020-01-01\n",
      "venue: 'Surface Science'\n",
      "paperurl: 'https://doi.org/10.1016/j.susc.2019.121503'\n",
      "citation: 'Arif-2020-inferring'\n",
      "---\n",
      "[Download paper here](https://doi.org/10.1016/j.susc.2019.121503)\n",
      "\n",
      "Recommended citation: Arif-2020-inferring"
     ]
    }
   ],
   "source": [
    "!cat ../_publications/2020-01-01-arif-2020-inferring.md"
   ]
  },
  {
   "cell_type": "code",
   "execution_count": null,
   "metadata": {
    "collapsed": true,
    "deletable": true,
    "editable": true
   },
   "outputs": [],
   "source": []
  }
 ],
 "metadata": {
  "kernelspec": {
   "display_name": "base",
   "language": "python",
   "name": "python3"
  },
  "language_info": {
   "codemirror_mode": {
    "name": "ipython",
    "version": 3
   },
   "file_extension": ".py",
   "mimetype": "text/x-python",
   "name": "python",
   "nbconvert_exporter": "python",
   "pygments_lexer": "ipython3",
   "version": "3.12.2"
  }
 },
 "nbformat": 4,
 "nbformat_minor": 0
}
