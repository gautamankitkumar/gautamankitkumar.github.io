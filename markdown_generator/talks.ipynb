{
 "cells": [
  {
   "cell_type": "markdown",
   "metadata": {
    "deletable": true,
    "editable": true
   },
   "source": [
    "# Talks markdown generator for academicpages\n",
    "\n",
    "Takes a TSV of talks with metadata and converts them for use with [academicpages.github.io](academicpages.github.io). This is an interactive Jupyter notebook ([see more info here](http://jupyter-notebook-beginner-guide.readthedocs.io/en/latest/what_is_jupyter.html)). The core python code is also in `talks.py`. Run either from the `markdown_generator` folder after replacing `talks.tsv` with one containing your data.\n",
    "\n",
    "TODO: Make this work with BibTex and other databases, rather than Stuart's non-standard TSV format and citation style."
   ]
  },
  {
   "cell_type": "code",
   "execution_count": 8,
   "metadata": {
    "collapsed": false,
    "deletable": true,
    "editable": true
   },
   "outputs": [],
   "source": [
    "import pandas as pd\n",
    "import os"
   ]
  },
  {
   "cell_type": "markdown",
   "metadata": {},
   "source": [
    "## Data format\n",
    "\n",
    "The TSV needs to have the following columns: title, type, url_slug, venue, date, location, talk_url, description, with a header at the top. Many of these fields can be blank, but the columns must be in the TSV.\n",
    "\n",
    "- Fields that cannot be blank: `title`, `url_slug`, `date`. All else can be blank. `type` defaults to \"Talk\" \n",
    "- `date` must be formatted as YYYY-MM-DD.\n",
    "- `url_slug` will be the descriptive part of the .md file and the permalink URL for the page about the paper. \n",
    "    - The .md file will be `YYYY-MM-DD-[url_slug].md` and the permalink will be `https://[yourdomain]/talks/YYYY-MM-DD-[url_slug]`\n",
    "    - The combination of `url_slug` and `date` must be unique, as it will be the basis for your filenames\n",
    "\n",
    "This is how the raw file looks (it doesn't look pretty, use a spreadsheet or other program to edit and create)."
   ]
  },
  {
   "cell_type": "code",
   "execution_count": 9,
   "metadata": {
    "collapsed": false
   },
   "outputs": [
    {
     "name": "stdout",
     "output_type": "stream",
     "text": [
      "title\ttype\turl_slug\tvenue\tdate\tlocation\ttalk_url\tdescription\n",
      "Phase-dependent catalytic activity of in situ-oxidized molybdenum carbide for formic acid electro-oxidation\tTalk\ttalk-1\tACS Fall 2022\t2022-08-22\tChicago, IL\thttps://acs.digitellinc.com/p/s/phase-dependent-catalytic-activity-of-in-situ-oxidized-molybdenum-carbide-for-formic-acid-electro-oxidation-514344\tFuel cells enable clean and efficient energy generation in portable power sources to be used in automotive, military, and space applications. The platinum group metals (PGM) are some of the most active fuel cell electrocatalysts, but their high price and scarcity hinder large-scale fuel cell commercialization. Transition metal carbides (TMCs) have long been regarded as cost-effective PGM substitutes offering improved physical properties and high catalytic activity towards some reactions. Recently, nanosized TMCs have been synthesized that exhibit a complex size- and phase-dependent stability and catalytic properties. In this work, we employ a combination of density functional theory, ab initio thermodynamics, ab initio molecular dynamics, and electronic structure analysis of MoxCy catalysts to reveal phase-, potential-, and pH-dependent surface structure and composition, nature of the active site, and its catalytic activity for formic acid electro-oxidation. We develop Pourbaix diagrams for representative MoxCy surfaces and reveal a substantial degree of surface oxidation (either monolayer-limited or penetrating to the bulk) in an electrochemical environment. Mechanistic studies unfold a phase-dependent inhibiting or promoting effect of an oxygen overlayer that modifies the free energies of co-adsorbed reaction intermediates. Finally, machine learning tools shed light on the structure of TMC nanoparticles and help bridge the materials gap.\n",
      "Phase-Dependent Catalytic Activity of Molybdenum Carbide Surfaces for Formic Acid Electro-Oxidation\tPoster\ttalk-2\tNAM28\t2023-06-21\tProvidence, RI\thttps://nam.confex.com/nam/2023/meetingapp.cgi/Paper/31817\tWe investigated and compared the catalytic activity of alpha-MoC and beta-Mo2C as an inexpensive substitute of Pt for formic acid electro-oxidation. We developed surface Pourbaix diagrams for MoXCY surfaces and reveal a substantial degree of surface oxidation which enables oxidation in an electrochemical environment.\n",
      "Phase-dependent promoting effect of surface oxygen on molybdenum carbide catalysts during formic acid electrooxidation\tTalk \ttalk-3\t2023 Joint Midwest & Great Lakes Regional Meeting\t2023-10-19\tSt. Louis, MO\tNumber318\tTransition metal carbides (TMC) have long been heralded as inexpensive substitutes for Pt-group metals (PGMs) because of their similarities in chemical activity and electronic structure. TMCs offer vast catalyst design space owing to their particle-size-dependent polymorphism, tunable non-stoichiometric composition, and phase-dependent catalytic activity. Compared to Pt-group-based catalysts, TMCs exhibit higher stability and resistance to corrosion in their electrochemical operation, thus making them attractive low-cost electrocatalysts for sustainable energy generation and conversion. Unlike PGMs, TMCs are very oxophilic, which may limit their catalytic efficiency in oxidation and electrooxidation reactions due to the blocking of the catalytic sites by O* species. Contrary to this expectation, recent experimental findings reveal the significant co-catalytic activity of TMCs in the electrooxidation of methanol, ethanol, and formic acid. The underlying mechanism for this unusual catalytic activity remains elusive. In this work, we employ a combination of density functional theory (DFT), ab initio thermodynamics, and reaction rate theory to unravel the source of TMC catalytic activity in oxidation reactions. We investigate a model reaction system, namely formic acid electrooxidation on the meta-stable alpha-MoC1-x phase, which was selected based on its reported excellent catalytic activity in low-temperature water-gas shift and methanol oxidation. The kinetics-cognizant surface Pourbaix diagram that we developed reveals in situ surface modification at varying electrochemical conditions. The origin of alpha-MoC1-x high catalytic activity is attributed to unique oxycarbide motifs which weaken otherwise strong surface-adsorbate interactions as supported by the calibrated Bader charge analysis and energy decomposition analysis. We hypothesize that this counterintuitive promotional effect of in situ-deposited surface oxygen may be present in a range of electrocatalytic and thermocatalytic reactions on other TMCs.\n",
      "Phase-Dependent Promoting Effect of Surface Oxygen on Molybdenum Carbide Catalysts during Formic Acid Electrooxidation\tTalk \ttalk-4\t2023 AIChE Annual Meeting\t2023-11-07\tOrlando, FL\thttps://proceedings.aiche.org/conferences/aiche-annual-meeting/2023/proceeding/paper/665g-phase-dependent-promoting-effect-surface-oxygen-on-molybdenum-carbide-catalysts-during-formic\tTransition metal carbides (TMC) have long been heralded as inexpensive substitutes for Pt-group metals (PGMs) owing to similarities in chemical activity and electronic structure. TMCs offer vast catalyst design space owing to their particle-size-dependent polymorphism, tunable non-stoichiometric composition, and phase-dependent catalytic activity. Compared to Pt-group-based catalysts, TMCs exhibit higher stability and resistance to corrosion in their electrochemical operation, thus making them attractive low-cost electrocatalysts for sustainable energy generation and conversion. Unlike PGMs, TMCs are very oxophilic, which may limit their catalytic efficiency in oxidation and electrooxidation reactions due to the blocking of the catalytic sites by O* species. Contrary to this expectation, recent experimental findings reveal the significant co-catalytic activity of TMCs in the electrooxidation of methanol, ethanol, and formic acid. The underlying mechanism for this unusual catalytic activity remains elusive. In this work, we employ a combination of density functional theory (DFT), ab initio thermodynamics, and reaction rate theory to unravel the source of TMC catalytic activity in oxidation reactions. We investigate a model reaction system, namely formic acid electrooxidation on the meta-stable alpha-MoC1-x phase, which was selected based on its reported excellent catalytic activity in low-temperature water-gas shift and methanol oxidation. The kinetics-cognizant surface Pourbaix diagram that we developed reveals in situ surface modification at varying electrochemical conditions. The origin of alpha-MoC1-x high catalytic activity is attributed to unique oxycarbide motifs which weaken otherwise strong surface-adsorbate interactions as supported by the calibrated Bader charge analysis and energy decomposition analysis. We hypothesize that this counterintuitive promotional effect of in situ-deposited surface oxygen may be present in a range of electrocatalytic and thermocatalytic reactions on other TMCs.\n",
      "Phase-Dependent Promoting Effect of Surface Oxygen on Molybdenum Carbide Catalysts during Formic Acid Electrooxidation\tTalk \ttalk-5\t2024 ChBE GSAC symposium\t2024-09-30\tUrbana, IL\thttps://mironenkogroup.web.illinois.edu/2024/09/17/ankit-and-lanie-present-at-the-23rd-chbe-graduate-research-symposium-lanie-wins-2nd-place/\tTransition metal carbides (TMC) have long been heralded as inexpensive substitutes for Pt-group metals (PGMs) owing to similarities in chemical activity and electronic structure. TMCs offer vast catalyst design space owing to their particle-size-dependent polymorphism, tunable non-stoichiometric composition, and phase-dependent catalytic activity. Compared to Pt-group-based catalysts, TMCs exhibit higher stability and resistance to corrosion in their electrochemical operation, thus making them attractive low-cost electrocatalysts for sustainable energy generation and conversion. Unlike PGMs, TMCs are very oxophilic, which may limit their catalytic efficiency in oxidation and electrooxidation reactions due to the blocking of the catalytic sites by O* species. Contrary to this expectation, recent experimental findings reveal the significant co-catalytic activity of TMCs in the electrooxidation of methanol, ethanol, and formic acid. The underlying mechanism for this unusual catalytic activity remains elusive. In this work, we employ a combination of density functional theory (DFT), ab initio thermodynamics, and reaction rate theory to unravel the source of TMC catalytic activity in oxidation reactions. We investigate a model reaction system, namely formic acid electrooxidation on the meta-stable alpha-MoC1-x phase, which was selected based on its reported excellent catalytic activity in low-temperature water-gas shift and methanol oxidation. The kinetics-cognizant surface Pourbaix diagram that we developed reveals in situ surface modification at varying electrochemical conditions. The origin of alpha-MoC1-x high catalytic activity is attributed to unique oxycarbide motifs which weaken otherwise strong surface-adsorbate interactions as supported by the calibrated Bader charge analysis and energy decomposition analysis. We hypothesize that this counterintuitive promotional effect of in situ-deposited surface oxygen may be present in a range of electrocatalytic and thermocatalytic reactions on other TMCs.\n",
      "Phase-Dependent Promoting Effect of Surface Oxygen on Molybdenum Carbide Catalysts during Formic Acid Electrooxidation\tTalk \ttalk-6\t2024 AIChE Annual Meeting\t2024-10-30\tSan Diego, CA\thttps://proceedings.aiche.org/conferences/aiche-annual-meeting/2024/proceeding/paper/569cu-phase-dependent-promoting-effect-surface-oxygen-on-molybdenum-carbide-catalysts-during-formic\tTransition metal carbides (TMC) are abundant and promising low-cost electrocatalyst as they exhibit Pt-like catalytic activity. When combined with metal catalysts, TMCs demonstrate excellent performance towards C-H and O-H bond breaking in an oxidizing environment. The high TMC activity, however, contrasts with their highly oxophillic nature, which should cause rapid deactivation by strongly adsorbed O* atoms. Understanding the effect of surface oxidation on catalytic behavior and material stability is key to resolving this TMC catalysis puzzle and enabling TMC usage in electrochemical operations. Here, we elucidate the surface structure and catalytic activity of β-Mo2C and alpha-MoC phases under electrochemical conditions using density functional theory and kinetics-informed ab initio thermodynamics calculations. The β-Mo2C(011)-C surface was investigated for hydrogen evolution reaction (HER) and alpha-MoC(311)-Mo for formic acid electrooxidation (FAEO). Kinetics-informed Pourbaix diagrams reveal that both surfaces are extensively oxidized with the alpha-MoC phase showing greater stability with respect to surface C removal through CO/CO2 release (onset potential 0.72 V) over β-Mo2C (onset potential 0.46 V. Surface oxidation on β-Mo2C is found to be detrimental towards HER[1] since all metal sites are predicted to be covered with O*/OH* species. In contrast, partial surface oxidation on alpha-MoC has a promoting effect towards FAEO, as the surface exposes undercoordinated Mo sites with a weakened binding affinity toward reactive intermediates due to repulsive lateral O* interactions. The alpha-MoC-catalyzed FAEO is predicted to proceed through OH*-mediated C-H scission as a rate-limiting step, similar to FAEO on Pt(111). Surface stability and electrocatalytic activity trends are confirmed experimentally using CV and XPS measurements. The computational evidence for the phase-dependent promoting effect of surface O* on TMC catalytic activity opens up new opportunities for the wider use of TMCs in electrocatalysis. [1] Yu, Siying et al. 'Implication of Surface Oxidation of Nanoscale Molybdenum Carbide on Electrocatalytic Activity' under review"
     ]
    }
   ],
   "source": [
    "!cat talks.tsv"
   ]
  },
  {
   "cell_type": "markdown",
   "metadata": {},
   "source": [
    "## Import TSV\n",
    "\n",
    "Pandas makes this easy with the read_csv function. We are using a TSV, so we specify the separator as a tab, or `\\t`.\n",
    "\n",
    "I found it important to put this data in a tab-separated values format, because there are a lot of commas in this kind of data and comma-separated values can get messed up. However, you can modify the import statement, as pandas also has read_excel(), read_json(), and others."
   ]
  },
  {
   "cell_type": "code",
   "execution_count": 10,
   "metadata": {
    "collapsed": false,
    "deletable": true,
    "editable": true
   },
   "outputs": [
    {
     "data": {
      "text/html": [
       "<div>\n",
       "<style scoped>\n",
       "    .dataframe tbody tr th:only-of-type {\n",
       "        vertical-align: middle;\n",
       "    }\n",
       "\n",
       "    .dataframe tbody tr th {\n",
       "        vertical-align: top;\n",
       "    }\n",
       "\n",
       "    .dataframe thead th {\n",
       "        text-align: right;\n",
       "    }\n",
       "</style>\n",
       "<table border=\"1\" class=\"dataframe\">\n",
       "  <thead>\n",
       "    <tr style=\"text-align: right;\">\n",
       "      <th></th>\n",
       "      <th>title</th>\n",
       "      <th>type</th>\n",
       "      <th>url_slug</th>\n",
       "      <th>venue</th>\n",
       "      <th>date</th>\n",
       "      <th>location</th>\n",
       "      <th>talk_url</th>\n",
       "      <th>description</th>\n",
       "    </tr>\n",
       "  </thead>\n",
       "  <tbody>\n",
       "    <tr>\n",
       "      <th>0</th>\n",
       "      <td>Phase-dependent catalytic activity of in situ-...</td>\n",
       "      <td>Talk</td>\n",
       "      <td>talk-1</td>\n",
       "      <td>ACS Fall 2022</td>\n",
       "      <td>2022-08-22</td>\n",
       "      <td>Chicago, IL</td>\n",
       "      <td>https://acs.digitellinc.com/p/s/phase-dependen...</td>\n",
       "      <td>Fuel cells enable clean and efficient energy g...</td>\n",
       "    </tr>\n",
       "    <tr>\n",
       "      <th>1</th>\n",
       "      <td>Phase-Dependent Catalytic Activity of Molybden...</td>\n",
       "      <td>Poster</td>\n",
       "      <td>talk-2</td>\n",
       "      <td>NAM28</td>\n",
       "      <td>2023-06-21</td>\n",
       "      <td>Providence, RI</td>\n",
       "      <td>https://nam.confex.com/nam/2023/meetingapp.cgi...</td>\n",
       "      <td>We investigated and compared the catalytic act...</td>\n",
       "    </tr>\n",
       "    <tr>\n",
       "      <th>2</th>\n",
       "      <td>Phase-dependent promoting effect of surface ox...</td>\n",
       "      <td>Talk</td>\n",
       "      <td>talk-3</td>\n",
       "      <td>2023 Joint Midwest &amp; Great Lakes Regional Meeting</td>\n",
       "      <td>2023-10-19</td>\n",
       "      <td>St. Louis, MO</td>\n",
       "      <td>Number318</td>\n",
       "      <td>Transition metal carbides (TMC) have long been...</td>\n",
       "    </tr>\n",
       "    <tr>\n",
       "      <th>3</th>\n",
       "      <td>Phase-Dependent Promoting Effect of Surface Ox...</td>\n",
       "      <td>Talk</td>\n",
       "      <td>talk-4</td>\n",
       "      <td>2023 AIChE Annual Meeting</td>\n",
       "      <td>2023-11-07</td>\n",
       "      <td>Orlando, FL</td>\n",
       "      <td>https://proceedings.aiche.org/conferences/aich...</td>\n",
       "      <td>Transition metal carbides (TMC) have long been...</td>\n",
       "    </tr>\n",
       "    <tr>\n",
       "      <th>4</th>\n",
       "      <td>Phase-Dependent Promoting Effect of Surface Ox...</td>\n",
       "      <td>Talk</td>\n",
       "      <td>talk-5</td>\n",
       "      <td>2024 ChBE GSAC symposium</td>\n",
       "      <td>2024-09-30</td>\n",
       "      <td>Urbana, IL</td>\n",
       "      <td>https://mironenkogroup.web.illinois.edu/2024/0...</td>\n",
       "      <td>Transition metal carbides (TMC) have long been...</td>\n",
       "    </tr>\n",
       "    <tr>\n",
       "      <th>5</th>\n",
       "      <td>Phase-Dependent Promoting Effect of Surface Ox...</td>\n",
       "      <td>Talk</td>\n",
       "      <td>talk-6</td>\n",
       "      <td>2024 AIChE Annual Meeting</td>\n",
       "      <td>2024-10-30</td>\n",
       "      <td>San Diego, CA</td>\n",
       "      <td>https://proceedings.aiche.org/conferences/aich...</td>\n",
       "      <td>Transition metal carbides (TMC) are abundant a...</td>\n",
       "    </tr>\n",
       "  </tbody>\n",
       "</table>\n",
       "</div>"
      ],
      "text/plain": [
       "                                               title    type url_slug  \\\n",
       "0  Phase-dependent catalytic activity of in situ-...    Talk   talk-1   \n",
       "1  Phase-Dependent Catalytic Activity of Molybden...  Poster   talk-2   \n",
       "2  Phase-dependent promoting effect of surface ox...   Talk    talk-3   \n",
       "3  Phase-Dependent Promoting Effect of Surface Ox...   Talk    talk-4   \n",
       "4  Phase-Dependent Promoting Effect of Surface Ox...   Talk    talk-5   \n",
       "5  Phase-Dependent Promoting Effect of Surface Ox...   Talk    talk-6   \n",
       "\n",
       "                                               venue        date  \\\n",
       "0                                      ACS Fall 2022  2022-08-22   \n",
       "1                                              NAM28  2023-06-21   \n",
       "2  2023 Joint Midwest & Great Lakes Regional Meeting  2023-10-19   \n",
       "3                          2023 AIChE Annual Meeting  2023-11-07   \n",
       "4                           2024 ChBE GSAC symposium  2024-09-30   \n",
       "5                          2024 AIChE Annual Meeting  2024-10-30   \n",
       "\n",
       "         location                                           talk_url  \\\n",
       "0     Chicago, IL  https://acs.digitellinc.com/p/s/phase-dependen...   \n",
       "1  Providence, RI  https://nam.confex.com/nam/2023/meetingapp.cgi...   \n",
       "2   St. Louis, MO                                          Number318   \n",
       "3     Orlando, FL  https://proceedings.aiche.org/conferences/aich...   \n",
       "4      Urbana, IL  https://mironenkogroup.web.illinois.edu/2024/0...   \n",
       "5   San Diego, CA  https://proceedings.aiche.org/conferences/aich...   \n",
       "\n",
       "                                         description  \n",
       "0  Fuel cells enable clean and efficient energy g...  \n",
       "1  We investigated and compared the catalytic act...  \n",
       "2  Transition metal carbides (TMC) have long been...  \n",
       "3  Transition metal carbides (TMC) have long been...  \n",
       "4  Transition metal carbides (TMC) have long been...  \n",
       "5  Transition metal carbides (TMC) are abundant a...  "
      ]
     },
     "execution_count": 10,
     "metadata": {},
     "output_type": "execute_result"
    }
   ],
   "source": [
    "talks = pd.read_csv(\"talks.tsv\", sep=\"\\t\", header=0)\n",
    "talks"
   ]
  },
  {
   "cell_type": "markdown",
   "metadata": {},
   "source": [
    "## Escape special characters\n",
    "\n",
    "YAML is very picky about how it takes a valid string, so we are replacing single and double quotes (and ampersands) with their HTML encoded equivilents. This makes them look not so readable in raw format, but they are parsed and rendered nicely."
   ]
  },
  {
   "cell_type": "code",
   "execution_count": 11,
   "metadata": {
    "collapsed": false,
    "deletable": true,
    "editable": true
   },
   "outputs": [],
   "source": [
    "html_escape_table = {\n",
    "    \"&\": \"&amp;\",\n",
    "    '\"': \"&quot;\",\n",
    "    \"'\": \"&apos;\"\n",
    "    }\n",
    "\n",
    "def html_escape(text):\n",
    "    if type(text) is str:\n",
    "        return \"\".join(html_escape_table.get(c,c) for c in text)\n",
    "    else:\n",
    "        return \"False\""
   ]
  },
  {
   "cell_type": "markdown",
   "metadata": {},
   "source": [
    "## Creating the markdown files\n",
    "\n",
    "This is where the heavy lifting is done. This loops through all the rows in the TSV dataframe, then starts to concatentate a big string (```md```) that contains the markdown for each type. It does the YAML metadata first, then does the description for the individual page."
   ]
  },
  {
   "cell_type": "code",
   "execution_count": 12,
   "metadata": {
    "collapsed": false,
    "deletable": true,
    "editable": true
   },
   "outputs": [],
   "source": [
    "loc_dict = {}\n",
    "\n",
    "for row, item in talks.iterrows():\n",
    "    \n",
    "    md_filename = str(item.date) + \"-\" + item.url_slug + \".md\"\n",
    "    html_filename = str(item.date) + \"-\" + item.url_slug \n",
    "    year = item.date[:4]\n",
    "    \n",
    "    md = \"---\\ntitle: \\\"\"   + item.title + '\"\\n'\n",
    "    md += \"collection: talks\" + \"\\n\"\n",
    "    \n",
    "    if len(str(item.type)) > 3:\n",
    "        md += 'type: \"' + item.type + '\"\\n'\n",
    "    else:\n",
    "        md += 'type: \"Talk\"\\n'\n",
    "    \n",
    "    md += \"permalink: /talks/\" + html_filename + \"\\n\"\n",
    "    \n",
    "    if len(str(item.venue)) > 3:\n",
    "        md += 'venue: \"' + item.venue + '\"\\n'\n",
    "        \n",
    "    if len(str(item.location)) > 3:\n",
    "        md += \"date: \" + str(item.date) + \"\\n\"\n",
    "    \n",
    "    if len(str(item.location)) > 3:\n",
    "        md += 'location: \"' + str(item.location) + '\"\\n'\n",
    "           \n",
    "    md += \"---\\n\"\n",
    "    \n",
    "    \n",
    "    if len(str(item.talk_url)) > 3:\n",
    "        md += \"\\n[More information here](\" + item.talk_url + \")\\n\" \n",
    "        \n",
    "    \n",
    "    if len(str(item.description)) > 3:\n",
    "        md += \"\\n\" + html_escape(item.description) + \"\\n\"\n",
    "        \n",
    "        \n",
    "    md_filename = os.path.basename(md_filename)\n",
    "    #print(md)\n",
    "    \n",
    "    with open(\"../_talks/\" + md_filename, 'w') as f:\n",
    "        f.write(md)"
   ]
  },
  {
   "cell_type": "markdown",
   "metadata": {},
   "source": [
    "These files are in the talks directory, one directory below where we're working from."
   ]
  },
  {
   "cell_type": "code",
   "execution_count": 13,
   "metadata": {
    "collapsed": false,
    "deletable": true,
    "editable": true
   },
   "outputs": [
    {
     "name": "stdout",
     "output_type": "stream",
     "text": [
      "2022-08-22-talk-1.md 2023-10-19-talk-3.md 2024-09-30-talk-5.md\n",
      "2023-06-21-talk-2.md 2023-11-07-talk-4.md 2024-10-30-talk-6.md\n"
     ]
    }
   ],
   "source": [
    "!ls ../_talks"
   ]
  },
  {
   "cell_type": "code",
   "execution_count": 14,
   "metadata": {
    "collapsed": false,
    "deletable": true,
    "editable": true
   },
   "outputs": [
    {
     "name": "stdout",
     "output_type": "stream",
     "text": [
      "cat: ../_talks/2013-03-01-tutorial-1.md: No such file or directory\n"
     ]
    }
   ],
   "source": [
    "!cat ../_talks/2013-03-01-tutorial-1.md"
   ]
  }
 ],
 "metadata": {
  "kernelspec": {
   "display_name": "base",
   "language": "python",
   "name": "python3"
  },
  "language_info": {
   "codemirror_mode": {
    "name": "ipython",
    "version": 3
   },
   "file_extension": ".py",
   "mimetype": "text/x-python",
   "name": "python",
   "nbconvert_exporter": "python",
   "pygments_lexer": "ipython3",
   "version": "3.12.2"
  }
 },
 "nbformat": 4,
 "nbformat_minor": 0
}
